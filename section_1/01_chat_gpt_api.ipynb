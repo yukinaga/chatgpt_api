{
  "nbformat": 4,
  "nbformat_minor": 0,
  "metadata": {
    "colab": {
      "provenance": [],
      "authorship_tag": "ABX9TyMxbpaKfgjQwQSlk9vNELYk",
      "include_colab_link": true
    },
    "kernelspec": {
      "name": "python3",
      "display_name": "Python 3"
    },
    "language_info": {
      "name": "python"
    }
  },
  "cells": [
    {
      "cell_type": "markdown",
      "metadata": {
        "id": "view-in-github",
        "colab_type": "text"
      },
      "source": [
        "<a href=\"https://colab.research.google.com/github/yukinaga/chatgpt_api/blob/main/section_1/01_chat_gpt_api.ipynb\" target=\"_parent\"><img src=\"https://colab.research.google.com/assets/colab-badge.svg\" alt=\"Open In Colab\"/></a>"
      ]
    },
    {
      "cell_type": "markdown",
      "source": [
        "# ChatGPT APIを使ってみよう！\n",
        "\n",
        "ChatGPT APIを体験します。  \n",
        "API keyを設定し、Chat GPT APIからのレスポンスを取得してみましょう。  \n",
        "なお、APIの利用は有料になりますので、決済手段の登録が必要になります。.  \n",
        "決済手段を登録しないままコードを実行するとエラーになります。  "
      ],
      "metadata": {
        "id": "NJ0ypAO3Nd9n"
      }
    },
    {
      "cell_type": "markdown",
      "source": [
        "## ライブラリのインストール\n",
        "ChatGPT APIを使用するために必要なライブラリ、openaiをインストールします。  "
      ],
      "metadata": {
        "id": "rohh9-kEV-8q"
      }
    },
    {
      "cell_type": "code",
      "execution_count": null,
      "metadata": {
        "id": "Wo66c8k56kai"
      },
      "outputs": [],
      "source": [
        "!pip install \"openai<1.0.0\""
      ]
    },
    {
      "cell_type": "markdown",
      "source": [
        "インストールの完了後、openaiをインポートしておきます。"
      ],
      "metadata": {
        "id": "yykE6v-ziwa3"
      }
    },
    {
      "cell_type": "code",
      "source": [
        "import openai"
      ],
      "metadata": {
        "id": "ImCUT-lW6k6K"
      },
      "execution_count": null,
      "outputs": []
    },
    {
      "cell_type": "markdown",
      "source": [
        "## API Keyの設定\n",
        "ChatGPT APIを使用するために必要な「API key」を設定します。  \n",
        "以下のコードの、  \n",
        "`openai.api_key = \"Your API key\"`  \n",
        "における  \n",
        "`Your API key`の箇所を、自分のAPI keyに置き換えます。  \n",
        "ChatGPTのAPI keyは、OpenAIのサイトで取得できます。   \n",
        "https://platform.openai.com/account/api-keys\n"
      ],
      "metadata": {
        "id": "j03EsJaHh4KK"
      }
    },
    {
      "cell_type": "code",
      "source": [
        "openai.api_key = \"Your API key\""
      ],
      "metadata": {
        "id": "4lkJr3dk89bD"
      },
      "execution_count": null,
      "outputs": []
    },
    {
      "cell_type": "markdown",
      "source": [
        "API keyの流出にはリスクがあります。  \n",
        "他者に知られないように、慎重に扱ってください。"
      ],
      "metadata": {
        "id": "2lEUNEp9n95k"
      }
    },
    {
      "cell_type": "markdown",
      "source": [
        "## レスポンスの取得\n",
        "`openai.ChatCompletion.create()`により、ChatGPT APIからのレスポンスを取得します。  \n",
        "その際に、モデルを指定してメッセージを送ります。  \n"
      ],
      "metadata": {
        "id": "jomNHjE3lPAJ"
      }
    },
    {
      "cell_type": "code",
      "source": [
        "# ChatGPT APIからのレスポンスを取得する\n",
        "response = openai.ChatCompletion.create(\n",
        "    model=\"gpt-3.5-turbo\",\n",
        "    messages=[\n",
        "        {\"role\": \"system\", \"content\": \"あなたは優秀なアシスタントAIです。\"},\n",
        "        {\"role\": \"user\", \"content\":\"あなたはどんなことができますか？\"}\n",
        "        ]\n",
        ")\n",
        "\n",
        "# レスポンスの表示\n",
        "print(response['choices'][0]['message']['content'])"
      ],
      "metadata": {
        "id": "nkswVM4r9BBt"
      },
      "execution_count": null,
      "outputs": []
    },
    {
      "cell_type": "markdown",
      "source": [
        "ChatGPT APIからのレスポンスを取得することができました。  \n",
        "\n",
        "上記のコードの実行後、OpenAIのサイトでAPIの使用量を確認してみましょう。  \n",
        "https://platform.openai.com/account/usage"
      ],
      "metadata": {
        "id": "B8hdFAd6VIaz"
      }
    }
  ]
}