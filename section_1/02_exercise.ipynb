{
  "nbformat": 4,
  "nbformat_minor": 0,
  "metadata": {
    "colab": {
      "provenance": [],
      "authorship_tag": "ABX9TyNMwlljLyngOJHaMDJtG9dx",
      "include_colab_link": true
    },
    "kernelspec": {
      "name": "python3",
      "display_name": "Python 3"
    },
    "language_info": {
      "name": "python"
    }
  },
  "cells": [
    {
      "cell_type": "markdown",
      "metadata": {
        "id": "view-in-github",
        "colab_type": "text"
      },
      "source": [
        "<a href=\"https://colab.research.google.com/github/yukinaga/chatgpt_api/blob/main/section_1/02_exercise.ipynb\" target=\"_parent\"><img src=\"https://colab.research.google.com/assets/colab-badge.svg\" alt=\"Open In Colab\"/></a>"
      ]
    },
    {
      "cell_type": "markdown",
      "source": [
        "# 演習\n",
        "\n",
        "ChatGPT APIを使い、「AI英語教師」を作ってみましょう。"
      ],
      "metadata": {
        "id": "NJ0ypAO3Nd9n"
      }
    },
    {
      "cell_type": "markdown",
      "source": [
        "## ライブラリのインストール"
      ],
      "metadata": {
        "id": "rohh9-kEV-8q"
      }
    },
    {
      "cell_type": "code",
      "execution_count": null,
      "metadata": {
        "id": "Wo66c8k56kai"
      },
      "outputs": [],
      "source": [
        "!pip install \"openai<1.0.0\""
      ]
    },
    {
      "cell_type": "code",
      "source": [
        "import openai"
      ],
      "metadata": {
        "id": "ImCUT-lW6k6K"
      },
      "execution_count": null,
      "outputs": []
    },
    {
      "cell_type": "markdown",
      "source": [
        "## API Keyの設定\n",
        "ChatGPT APIを使用するために必要な「API key」を設定します。  \n",
        "以下のコードの、  \n",
        "`openai.api_key = \"Your API key\"`  \n",
        "における  \n",
        "`Your API key`の箇所を、自分のAPI keyに置き換えます。  "
      ],
      "metadata": {
        "id": "j03EsJaHh4KK"
      }
    },
    {
      "cell_type": "code",
      "source": [
        "openai.api_key = \"Your API key\""
      ],
      "metadata": {
        "id": "4lkJr3dk89bD"
      },
      "execution_count": null,
      "outputs": []
    },
    {
      "cell_type": "markdown",
      "source": [
        "## レスポンスの取得\n",
        "以下のセルの、`\"---設定の記述---\"`の箇所を変更し、AI英語教師を作成してください。  \n",
        "また、`\"---質問の記述---\"`の箇所を変更し、AI英語教師に質問を投げてください。  \n",
        "変更が完了したら、コードを実行して結果を確認しましょう。\n"
      ],
      "metadata": {
        "id": "jomNHjE3lPAJ"
      }
    },
    {
      "cell_type": "code",
      "source": [
        "# ChatGPT APIからの応答を取得する\n",
        "response = openai.ChatCompletion.create(\n",
        "    model=\"gpt-3.5-turbo\",\n",
        "    messages=[\n",
        "        {\"role\": \"system\", \"content\": \"---設定の記述---\"},\n",
        "        {\"role\": \"user\", \"content\":\"---質問の記述---\"}\n",
        "        ]\n",
        ")\n",
        "\n",
        "# レスポンスの表示\n",
        "print(response['choices'][0]['message']['content'])"
      ],
      "metadata": {
        "id": "nkswVM4r9BBt"
      },
      "execution_count": null,
      "outputs": []
    },
    {
      "cell_type": "markdown",
      "source": [
        "## 解答例\n",
        "以下は解答例です。"
      ],
      "metadata": {
        "id": "2lEUNEp9n95k"
      }
    },
    {
      "cell_type": "code",
      "source": [
        "# ChatGPT APIからの応答を取得する\n",
        "response = openai.ChatCompletion.create(\n",
        "    model=\"gpt-3.5-turbo\",\n",
        "    messages=[\n",
        "        {\"role\": \"system\", \"content\": \"あなたは優秀な英語教師です。\"},\n",
        "        {\"role\": \"user\", \"content\":\"あなたは何を教えることができますか？\"}\n",
        "        ]\n",
        ")\n",
        "\n",
        "# レスポンスの表示\n",
        "print(response['choices'][0]['message']['content'])"
      ],
      "metadata": {
        "id": "ARUcbwjn0NaR"
      },
      "execution_count": null,
      "outputs": []
    }
  ]
}