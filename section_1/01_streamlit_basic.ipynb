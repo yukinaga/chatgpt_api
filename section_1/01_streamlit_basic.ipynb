{
  "nbformat": 4,
  "nbformat_minor": 0,
  "metadata": {
    "colab": {
      "provenance": [],
      "authorship_tag": "ABX9TyNJWWWKcm0jYHzz3nEAaWcl",
      "include_colab_link": true
    },
    "kernelspec": {
      "name": "python3",
      "display_name": "Python 3"
    },
    "language_info": {
      "name": "python"
    }
  },
  "cells": [
    {
      "cell_type": "markdown",
      "metadata": {
        "id": "view-in-github",
        "colab_type": "text"
      },
      "source": [
        "<a href=\"https://colab.research.google.com/github/yukinaga/chatgpt_api/blob/main/section_1/01_streamlit_basic.ipynb\" target=\"_parent\"><img src=\"https://colab.research.google.com/assets/colab-badge.svg\" alt=\"Open In Colab\"/></a>"
      ]
    },
    {
      "cell_type": "markdown",
      "metadata": {
        "id": "8kW_qXJVTjic"
      },
      "source": [
        "# Streamlitの基礎\n",
        "Streamlitを使い、Webアプリを構築します。  \n",
        "様々なUI（ユーザーインターフェイス）を試してみましょう。  "
      ]
    },
    {
      "cell_type": "markdown",
      "source": [
        "## ライブラリのインストール\n",
        "Streamlit、およびアプリの動作の確認に使用する「ngrok」をインストールします。"
      ],
      "metadata": {
        "id": "vRJCuxALcgkb"
      }
    },
    {
      "cell_type": "code",
      "execution_count": null,
      "metadata": {
        "id": "Pbqipzj3nCy4"
      },
      "outputs": [],
      "source": [
        "!pip install streamlit==1.20.0 --quiet\n",
        "!pip install pyngrok --quiet"
      ]
    },
    {
      "cell_type": "markdown",
      "source": [
        "Streamlit、およびngrokをインポートします。  "
      ],
      "metadata": {
        "id": "husUkYy5dhZ4"
      }
    },
    {
      "cell_type": "code",
      "source": [
        "import streamlit as st\n",
        "from pyngrok import ngrok"
      ],
      "metadata": {
        "id": "OsHcq-kaDwIi"
      },
      "execution_count": null,
      "outputs": []
    },
    {
      "cell_type": "markdown",
      "source": [
        "## ページのUI\n",
        "`%%writefile`のマジックコマンドを使って、様々なUIを配置するコードを「app.py」に書き込みます。"
      ],
      "metadata": {
        "id": "5fOtVgU5duPe"
      }
    },
    {
      "cell_type": "code",
      "source": [
        "%%writefile app.py\n",
        "# 以下を「app.py」に書き込み\n",
        "import streamlit as st\n",
        "import numpy as np\n",
        "import pandas as pd\n",
        "\n",
        "# ---------- スライダー ----------\n",
        "st.title(\"st.slider()\")\n",
        "x = st.slider(\"xの値\")\n",
        "st.write(str(x) + \"の2乗は\" + str(x**2))\n",
        "\n",
        "# ---------- ボタン ----------\n",
        "st.title(\"st.button()\")\n",
        "if st.button(\"Morning?\"):\n",
        "    st.write(\"Good morinig!\")\n",
        "else:\n",
        "    st.write(\"Helllo!\")\n",
        "\n",
        "# ---------- テキスト入力 ----------\n",
        "st.title(\"st.text_input()\")\n",
        "st.text_input(\"お住まいの国\", key=\"country\")\n",
        "st.session_state.country  # keyでアクセス\n",
        "\n",
        "# ---------- チェックボックス ----------\n",
        "st.title(\"st.checkbox()\")\n",
        "is_agree = st.checkbox(\"同意しますか？\")\n",
        "if is_agree:\n",
        "    st.write(\"了解です！\")\n",
        "else:\n",
        "    st.write(\"残念です！\")\n",
        "\n",
        "# ---------- セレクトボックス ----------\n",
        "st.title(\"st.selectbox()\")\n",
        "df_select = pd.DataFrame({\n",
        "    \"col1\": [11, 12, 13, 14],\n",
        "    \"col2\": [111, 112, 113, 114]\n",
        "    })\n",
        "selected = st.selectbox(\n",
        "    \"どの番号を選びますか？\",\n",
        "     df_select[\"col2\"])\n",
        "st.write(\"あなたは\" + str(selected) + \"番を選びました！\")\n",
        "\n",
        "# ---------- サイドバー ----------\n",
        "st.sidebar.title(\"st.sidebar\")\n",
        "\n",
        "y = st.sidebar.slider(\"yの値\")\n",
        "st.sidebar.write(str(y) + \"の2倍は\" + str(y*2))\n",
        "\n",
        "df_side = pd.DataFrame({\n",
        "    \"animal\": [\"犬\", \"猫\", \"兎\", \"象\", \"蛙\"],\n",
        "    \"color\": [\"赤\", \"青\", \"黄\", \"白\", \"黒\"]\n",
        "    })\n",
        "selected_side = st.sidebar.selectbox(\n",
        "    \"どの動物を選びますか？\",\n",
        "    df_side[\"animal\"]\n",
        "    )\n",
        "st.sidebar.write(\"あなたは\" + str(selected_side) + \"を選びました！\")"
      ],
      "metadata": {
        "id": "Ntj_BU3bnJli"
      },
      "execution_count": null,
      "outputs": []
    },
    {
      "cell_type": "markdown",
      "source": [
        "## Authtokenの設定\n",
        "ngrokで接続するために必要な「Authtoken」を設定します。  \n",
        "以下のコードの、  \n",
        "`!ngrok authtoken YourAuthtoken`  \n",
        "における  \n",
        "`YourAuthtoken`の箇所を、自分のAuthtokenに置き換えます。  \n",
        "Authtokenは、ngrokのサイトに登録すれば取得することができます。  \n",
        "https://ngrok.com/\n"
      ],
      "metadata": {
        "id": "j03EsJaHh4KK"
      }
    },
    {
      "cell_type": "code",
      "source": [
        "!ngrok authtoken YourAuthtoken"
      ],
      "metadata": {
        "id": "mTfmORj2Dn7-"
      },
      "execution_count": null,
      "outputs": []
    },
    {
      "cell_type": "markdown",
      "source": [
        "## アプリの起動\n",
        "streamlitの`run`コマンドでアプリを起動します。\n"
      ],
      "metadata": {
        "id": "CnobL05MkjB1"
      }
    },
    {
      "cell_type": "code",
      "source": [
        "!streamlit run app.py &>/dev/null&  # 「&>/dev/null&」により、出力を非表示にしてバックグランドジョブとして実行"
      ],
      "metadata": {
        "id": "W0jXlMXWK0vi"
      },
      "execution_count": null,
      "outputs": []
    },
    {
      "cell_type": "markdown",
      "source": [
        "ngrokのプロセスを終了した上で、新たにポートを指定して接続します。  \n",
        "接続の結果、urlを取得できます。  \n",
        "ngrokの無料プランでは同時に1つのプロセスしか動かせないので、エラーが発生した場合は「ランタイム」→「セッションの管理」で不要なGoogle Colabのセッションを修了しましょう。  "
      ],
      "metadata": {
        "id": "W5RLCJ7Sl2x_"
      }
    },
    {
      "cell_type": "code",
      "source": [
        "ngrok.kill()  # プロセスの修了\n",
        "url = ngrok.connect(\"8501\").public_url  # 接続"
      ],
      "metadata": {
        "id": "v23ymsdLK3x7"
      },
      "execution_count": null,
      "outputs": []
    },
    {
      "cell_type": "markdown",
      "source": [
        "## 動作の確認"
      ],
      "metadata": {
        "id": "8tVONgWNwzZm"
      }
    },
    {
      "cell_type": "markdown",
      "source": [
        "URLのhttpの部分をhttpsに変換する関数を設定します。"
      ],
      "metadata": {
        "id": "OywWF0KBw4y5"
      }
    },
    {
      "cell_type": "code",
      "source": [
        "def convert_http_to_https(url):\n",
        "    if url.startswith(\"http://\"):\n",
        "        url = url.replace(\"http://\", \"https://\", 1)\n",
        "    return url"
      ],
      "metadata": {
        "id": "gaEkk5Dsx0rR"
      },
      "execution_count": null,
      "outputs": []
    },
    {
      "cell_type": "markdown",
      "source": [
        "変換したurlを表示し、リンク先でアプリが動作することを確認します。"
      ],
      "metadata": {
        "id": "NZ0O_pNan57t"
      }
    },
    {
      "cell_type": "code",
      "source": [
        "print(convert_http_to_https(url))"
      ],
      "metadata": {
        "id": "MIY7ositLAXC"
      },
      "execution_count": null,
      "outputs": []
    }
  ]
}