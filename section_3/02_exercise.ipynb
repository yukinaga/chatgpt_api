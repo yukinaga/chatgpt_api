{
  "nbformat": 4,
  "nbformat_minor": 0,
  "metadata": {
    "colab": {
      "provenance": [],
      "authorship_tag": "ABX9TyPSz1vBU3WGUIY1/fZ9LvwV",
      "include_colab_link": true
    },
    "kernelspec": {
      "name": "python3",
      "display_name": "Python 3"
    },
    "language_info": {
      "name": "python"
    }
  },
  "cells": [
    {
      "cell_type": "markdown",
      "metadata": {
        "id": "view-in-github",
        "colab_type": "text"
      },
      "source": [
        "<a href=\"https://colab.research.google.com/github/yukinaga/chatgpt_api/blob/main/section_3/02_exercise.ipynb\" target=\"_parent\"><img src=\"https://colab.research.google.com/assets/colab-badge.svg\" alt=\"Open In Colab\"/></a>"
      ]
    },
    {
      "cell_type": "markdown",
      "metadata": {
        "id": "8kW_qXJVTjic"
      },
      "source": [
        "# 演習\n",
        "チャットボットの設定を、Streamlit Community Cloudの「Secrets」に保存しましょう。"
      ]
    },
    {
      "cell_type": "markdown",
      "source": [
        "## ライブラリのインストール\n",
        "（※注: このノートブック内でこれらのライブラリを使うことは無いので、インストールは必要ありません。）"
      ],
      "metadata": {
        "id": "vRJCuxALcgkb"
      }
    },
    {
      "cell_type": "code",
      "execution_count": null,
      "metadata": {
        "id": "Pbqipzj3nCy4"
      },
      "outputs": [],
      "source": [
        "# !pip install streamlit==1.20.0 --quiet\n",
        "#!pip install \"openai<1.0.0\""
      ]
    },
    {
      "cell_type": "code",
      "source": [
        "# import streamlit as st\n",
        "# import openai"
      ],
      "metadata": {
        "id": "OsHcq-kaDwIi"
      },
      "execution_count": null,
      "outputs": []
    },
    {
      "cell_type": "markdown",
      "source": [
        "## チャットボットのコード\n",
        "以下のコードの`st.secrets.AppSettings.chatbot_setting`で「system」の設定ができるように、Streamlit Community Cloudの「Secrets」に追記を行いましょう。  "
      ],
      "metadata": {
        "id": "5fOtVgU5duPe"
      }
    },
    {
      "cell_type": "code",
      "source": [
        "%%writefile app.py\n",
        "\n",
        "import streamlit as st\n",
        "import openai\n",
        "\n",
        "# Streamlit Community Cloudの「Secrets」からOpenAI API keyを取得\n",
        "openai.api_key = st.secrets.OpenAIAPI.openai_api_key\n",
        "\n",
        "# st.session_stateを使いメッセージのやりとりを保存\n",
        "if \"messages\" not in st.session_state:\n",
        "    st.session_state[\"messages\"] = [\n",
        "        {\"role\": \"system\", \"content\": st.secrets.AppSettings.chatbot_setting}\n",
        "        ]\n",
        "\n",
        "# チャットボットとやりとりする関数\n",
        "def communicate():\n",
        "    messages = st.session_state[\"messages\"]\n",
        "\n",
        "    user_message = {\"role\": \"user\", \"content\": st.session_state[\"user_input\"]}\n",
        "    messages.append(user_message)\n",
        "\n",
        "    response = openai.ChatCompletion.create(\n",
        "        model=\"gpt-3.5-turbo\",\n",
        "        messages=messages\n",
        "    )\n",
        "\n",
        "    bot_message = response[\"choices\"][0][\"message\"]\n",
        "    messages.append(bot_message)\n",
        "\n",
        "    st.session_state[\"user_input\"] = \"\"  # 入力欄を消去\n",
        "\n",
        "\n",
        "# ユーザーインターフェイスの構築\n",
        "st.title(\"My AI Assistant\")\n",
        "st.write(\"ChatGPT APIを使ったチャットボットです。\")\n",
        "\n",
        "user_input = st.text_input(\"メッセージを入力してください。\", key=\"user_input\", on_change=communicate)\n",
        "\n",
        "if st.session_state[\"messages\"]:\n",
        "    messages = st.session_state[\"messages\"]\n",
        "\n",
        "    for message in reversed(messages[1:]):  # 直近のメッセージを上に\n",
        "        speaker = \"🙂\"\n",
        "        if message[\"role\"]==\"assistant\":\n",
        "            speaker=\"🤖\"\n",
        "\n",
        "        st.write(speaker + \": \" + message[\"content\"])"
      ],
      "metadata": {
        "id": "Ntj_BU3bnJli"
      },
      "execution_count": null,
      "outputs": []
    },
    {
      "cell_type": "markdown",
      "source": [
        "## requirements.txtの作成"
      ],
      "metadata": {
        "id": "CCdXdIEWqWM4"
      }
    },
    {
      "cell_type": "code",
      "source": [
        "%%writefile requirements.txt\n",
        "streamlit==1.20.0\n",
        "openai==0.28.1"
      ],
      "metadata": {
        "id": "0h-58Ai2OO63"
      },
      "execution_count": null,
      "outputs": []
    },
    {
      "cell_type": "markdown",
      "source": [
        "以下の作成されたファイルをダウンロードして、新たなGitHubのレポジトリにアップしましょう。\n",
        "* app.py\n",
        "* requirements.txt\n",
        "  \n",
        "Streamlit Community Cloud上で動作を確認してください。"
      ],
      "metadata": {
        "id": "pVNwH5XOtAt-"
      }
    },
    {
      "cell_type": "markdown",
      "source": [
        "## 解答例\n",
        "以下は解答例です。  \n",
        "以下のような記述を「Secrets」に追記します。"
      ],
      "metadata": {
        "id": "CcFCeL2hxGzx"
      }
    },
    {
      "cell_type": "markdown",
      "source": [
        "[AppSettings]  \n",
        "chatbot_setting = \"あなたは優秀な英語教師です。何を聞かれても英語で答えてください。\"  "
      ],
      "metadata": {
        "id": "yHJnhNndxJqJ"
      }
    }
  ]
}